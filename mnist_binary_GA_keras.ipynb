{
  "nbformat": 4,
  "nbformat_minor": 0,
  "metadata": {
    "kernelspec": {
      "display_name": "Python 3",
      "language": "python",
      "name": "python3"
    },
    "language_info": {
      "codemirror_mode": {
        "name": "ipython",
        "version": 3
      },
      "file_extension": ".py",
      "mimetype": "text/x-python",
      "name": "python",
      "nbconvert_exporter": "python",
      "pygments_lexer": "ipython3",
      "version": "3.8.3"
    },
    "colab": {
      "name": "mnist_binary_GA_keras.ipynb",
      "provenance": [],
      "collapsed_sections": []
    }
  },
  "cells": [
    {
      "cell_type": "code",
      "metadata": {
        "id": "zDl5w4JgCCLo",
        "colab": {
          "base_uri": "https://localhost:8080/"
        },
        "outputId": "38c31879-858c-43ab-fb7d-4e5f779be55d"
      },
      "source": [
        "#from keras.datasets import mnist\n",
        "import tensorflow as tf\n",
        "import numpy as np\n",
        "import pandas as pd\n",
        "import cv2\n",
        "from keras.datasets import mnist\n",
        "from keras import Sequential, Input, Model\n",
        "from keras.layers import Conv2D, Dense, MaxPool2D, Flatten\n",
        "import keras\n",
        "import tensorflow as tf\n",
        "from keras.utils import np_utils\n",
        "import matplotlib.pyplot as plt\n",
        "(X_train, Y_train), (X_test, Y_test) = tf.keras.datasets.mnist.load_data()\n",
        "n_classes = 2\n",
        "print(Y_train.shape)\n",
        "check_train = (Y_train == 0) | (Y_train == 1) \n",
        "X_train = X_train[check_train]/255.\n",
        "Y_train = Y_train[check_train]\n",
        "len_data = X_train.shape[0]\n",
        "size = len_data\n",
        "X_train = X_train[:size]/255.\n",
        "Y_train = Y_train[:size]\n",
        "Y_train = np_utils.to_categorical(Y_train)"
      ],
      "execution_count": null,
      "outputs": [
        {
          "output_type": "stream",
          "name": "stdout",
          "text": [
            "(60000,)\n"
          ]
        }
      ]
    },
    {
      "cell_type": "code",
      "source": [
        "#Sử dụng genetic algoritm để khiến cho mạng neuron dùng để dự đoán nhãn 0 1 của bộ ảnh mnist dần trở nên chính xác hơn\n",
        "#1) Khởi tạo 1 quần thể với các cá thể là ngẫu nhiên \n",
        "# hình dạng của cá thể : mạng neuron với các lớp cố định và các parameters là ngẫu nhiên\n",
        "\n",
        "#2) Hàm đánh giá độ tốt của mỗi cá thể khi mà cho tương tác với môi trường\n",
        "# Lấy chính accuracy -> số nhãn dự đoán đúng trên toàn bộ số nhãn \n",
        "# -> trừ đi mae -> Mean Absolutely Error -> sum np.abs(Y_predict - Y_real)\n",
        "# -> hàm đánh độ tốt ( fitness) -> hàm đánh giá sự thích nghi với môi trường -> \n",
        "#hàm 1 : số nhãn dự đoán đúng chia cho số lượng toàn bộ số nhãn\n",
        "#hàm 2  : (số nhãn dự đoán đúng chia cho số lượng toàn bộ số nhãn) - MAE(Y_predict, Y_real)\n",
        "#3) Sau khi cho tương tác với môi trường, ta tiến hành chọn những cá thể có hàm fitness mang giá trị cao nhất\n",
        "# -> bao nhiêu cá thể sẽ tự set, hoặc bao nhiêu phần trăm tổng cá thể tốt nhất sẽ được giữ lại\n",
        "# -> thực hiện thêm lai tạo những cá thể tốt nhất\n",
        "# -> cá thể con = lai tạo(cá thể bố, cá thể mẹ)\n",
        "# hàm lai tạo sẽ có ý nghĩa nếu chứng minh được là nó sẽ làm cho cá thể con hưởng được phần tốt của bố và mẹ\n",
        "# kiểu lai tạo \n",
        "# 3.1.1) tương quan chéo : [1, 2, 3, 4, 5] [6, 7, 8, 9, 10] -> [1, 2, 3, 9, 10]\n",
        "# bài toán [1]\n",
        "# 3.1.2) tương quan : weight_con = alpha * weight_mẹ + (1 - alpha) * weight_cha (0 < alpha < 1)-> alpha tự set\n",
        "# giúp con có khả năng dự đoán được những dữ liệu mà bố với mẹ cùng dự đoán đúng chung\n",
        "# có khả năng dự đoán thêm những dữ liệu bố dự đoán mà mẹ dự đoán đúng\n",
        "# ... mẹ dự đoán sai mà bố dự đoán đúng\n",
        "# -> thừa hưởng phần tốt, mà có khả năng làm số dữ liệu dự đoán đúng tăng lên \n",
        "# -> phép lai hợp lý về logic\n",
        "# * Nếu mà bố với mẹ kiểu dự đoán được đúng những dữ liệu giống nhau và sai những dữ liệu cũng giống nhau\n",
        "# -> việc mình cần làm là chọn lọc thêm nhiều cặp bố mẹ khác \n",
        "# 3.2 -> Phép đột biến\n",
        "# chọn ra 1 gene bất kì -> [1, 0, 0, 0, 1, 1, 0]\n",
        "# tự khởi tạo xác suất giới hạn để đột biến gene -> 0.3\n",
        "# Duyệt xuống các từng bit 0, 1 của gene -> mỗi loop random ra 1 số từ 0 tới 1 -> nếu nó < 0.3 -> lật bit đấy -> k thì continue\n",
        "# * Trong bài toán của chúng ta sẽ chọn ra N cá thể trong quần thể cũ \n",
        "#-> duyệt N cá thể \n",
        "#-> mỗi loop random 1 số từ 0 tới 1 -> nếu số này < 0.3 -> tạo ra 1 cá thể mới là cá thể này với bộ weight bị random lại-> nếu > 0.3 thì continue\n",
        "# -> tổng kết toàn bộ cá thể cho quần thể sau trong project này = (cá thể tốt nhất được lọc ra) + (cá thể con của các cặp cá thể tốt nhất) + (cá thể được đột biến)"
      ],
      "metadata": {
        "id": "NS2R0sVjPW5U"
      },
      "execution_count": null,
      "outputs": []
    },
    {
      "cell_type": "code",
      "metadata": {
        "colab": {
          "base_uri": "https://localhost:8080/",
          "height": 828
        },
        "id": "LRfOodGc_Aan",
        "outputId": "08878d0d-c414-4bce-b952-c15433d4e715"
      },
      "source": [
        "#hàm đánh giá sự thích nghi của cá thể\n",
        "def fitness(model, X, Y):\n",
        "  with tf.device(\"/gpu:0\"):\n",
        "    Y_predict = model.predict(X)\n",
        "  error = np.abs(Y_predict - Y)\n",
        "  score = np.argmax(Y_predict, axis = 1) - np.argmax(Y, axis = 1)\n",
        "  mae_loss = np.sum(np.sum(error, axis = 0), axis = 0)/(error.shape[0])\n",
        "  accuracy = score[score == 0.].shape[0] / score.shape[0]\n",
        "  return np.array([accuracy])\n",
        "def cross_over(model1, model2):\n",
        "  alpha = 0.4\n",
        "  model_child = create_model()\n",
        "  for i in range(2, len(model_child.layers)):\n",
        "    weight1, bias1 = model1.layers[i].get_weights()\n",
        "    weight2, bias2 = model2.layers[i].get_weights()\n",
        "    model_child.layers[i].set_weights((alpha * weight1 + (1 - alpha) * weight2, alpha * bias1 + (1 - alpha) * bias2))\n",
        "  return model_child\n",
        "def mutation(model_mutate):\n",
        "    model = keras.models.clone_model(model_mutate)\n",
        "    i = 0\n",
        "    while(i < 2):\n",
        "      i = int(np.random.rand() * len(model.layers))\n",
        "    layer_weight, layer_bias = model.layers[i].get_weights()\n",
        "    model.layers[i].set_weights((tf.convert_to_tensor(np.random.rand(layer_weight.shape[0], layer_weight.shape[1])), tf.convert_to_tensor(np.random.rand(layer_bias.shape[0]))))\n",
        "    return model\n",
        "def create_model():\n",
        "  input = Input((28, 28))\n",
        "  flatten = Flatten()(input)\n",
        "  dense1 = Dense(128)(flatten)\n",
        "  output = Dense(n_classes, activation = \"softmax\")(dense1)\n",
        "  return Model(input, output)\n",
        "bots_length = 100\n",
        "loop = 10\n",
        "bots = np.array([create_model() for i in range(bots_length)])\n",
        "n_mutation = 10\n",
        "n_selection = 10\n",
        "save_fitness = []\n",
        "for episode in range(loop):\n",
        "  print(\"Episode {}\".format(episode))\n",
        "  bots_fitness = np.array([fitness(bot, X_train, Y_train) for bot in bots])\n",
        "  ranking_fitness = np.argsort(bots_fitness[:, 0])[::-1]\n",
        "  print(\"Best accuracy is : {}%\".format(bots_fitness[ranking_fitness[0], 0] * 100.))\n",
        "  save_fitness.append(bots_fitness[ranking_fitness[0], 0])\n",
        "  print(\"Worst accuracy is : {}%\".format(bots_fitness[ranking_fitness[-1], 0] * 100.))\n",
        "  top_bots = ranking_fitness[:n_selection]\n",
        "  bots_top = bots[top_bots]\n",
        "  bots_crossover1 = np.array([cross_over(bots_top[j], bots_top[i]) \n",
        "                              for i in range(bots_top.shape[0] - 1) \n",
        "                              for j in range(i + 1, bots_top.shape[0])]).reshape(-1)\n",
        "  index_mutate = np.random.permutation(bots.shape[0])[:n_mutation].astype(int)\n",
        "  bots_mutate = np.array([mutation(bot) for bot in bots[index_mutate]])\n",
        "  bots = np.concatenate((bots_top, bots_crossover1))\n",
        "  bots = np.concatenate((bots, bots_mutate))\n",
        "  bots = np.concatenate((bots, np.full((10), create_model())))\n",
        "plt.plot(save_fitness)\n",
        "plt.title(\"Evolution\")\n",
        "plt.ylabel('best fitness')\n",
        "plt.xlabel('generation')\n",
        "plt.show()"
      ],
      "execution_count": null,
      "outputs": [
        {
          "output_type": "stream",
          "name": "stdout",
          "text": [
            "Episode 0\n",
            "Best accuracy is : 92.1279115673115%\n",
            "Worst accuracy is : 11.685748124753257%\n",
            "Episode 1\n",
            "Best accuracy is : 96.0757994472957%\n",
            "Worst accuracy is : 41.902881958152385%\n",
            "Episode 2\n",
            "Best accuracy is : 97.63916304776944%\n",
            "Worst accuracy is : 46.766679826292936%\n",
            "Episode 3\n",
            "Best accuracy is : 97.83655744176866%\n",
            "Worst accuracy is : 46.766679826292936%\n",
            "Episode 4\n",
            "Best accuracy is : 97.8523489932886%\n",
            "Worst accuracy is : 46.766679826292936%\n",
            "Episode 5\n",
            "Best accuracy is : 97.86024476904855%\n",
            "Worst accuracy is : 46.71930517173312%\n",
            "Episode 6\n",
            "Best accuracy is : 97.86024476904855%\n",
            "Worst accuracy is : 46.766679826292936%\n",
            "Episode 7\n",
            "Best accuracy is : 97.86024476904855%\n",
            "Worst accuracy is : 31.133043821555468%\n",
            "Episode 8\n",
            "Best accuracy is : 97.86024476904855%\n",
            "Worst accuracy is : 41.62652980655349%\n",
            "Episode 9\n",
            "Best accuracy is : 97.86024476904855%\n",
            "Worst accuracy is : 46.766679826292936%\n"
          ]
        },
        {
          "output_type": "display_data",
          "data": {
            "image/png": "[encoded data removed]",
            "text/plain": [
              "<Figure size 432x288 with 1 Axes>"
            ]
          },
          "metadata": {
            "needs_background": "light"
          }
        }
      ]
    },
    {
      "cell_type": "code",
      "metadata": {
        "colab": {
          "base_uri": "https://localhost:8080/"
        },
        "id": "LY1yFOpFZmrL",
        "outputId": "873b59cd-211d-4b30-cd7e-24cb2ee340d2"
      },
      "source": [
        "index_boss = np.argsort(bots_fitness)[-1]\n",
        "boss = bots[index_boss]\n",
        "(X_train, Y_train), (X_test, Y_test) = tf.keras.datasets.mnist.load_data()\n",
        "check_test = (Y_test == 0) | (Y_test == 1) \n",
        "X_test = X_test[check_test]/255.\n",
        "Y_test = Y_test[check_test]\n",
        "len_data = X_test.shape[0]\n",
        "X_test = X_test[:size]/255.\n",
        "Y_test = Y_test[:size]\n",
        "Y_test = np_utils.to_categorical(Y_test)\n",
        "Y_predict = boss[0].predict(X_test)\n",
        "score =  score = np.argmax(Y_predict, axis = 1) - np.argmax(Y_test, axis = 1)\n",
        "accuracy = score[score == 0.].shape[0] / score.shape[0]\n",
        "print(\"Test accuracy is {}\".format(accuracy * 100))"
      ],
      "execution_count": null,
      "outputs": [
        {
          "output_type": "stream",
          "name": "stdout",
          "text": [
            "Test accuracy is 98.53427895981088\n"
          ]
        }
      ]
    },
    {
      "cell_type": "code",
      "metadata": {
        "colab": {
          "base_uri": "https://localhost:8080/",
          "height": 586
        },
        "id": "N_ai2idruGaL",
        "outputId": "f5691c46-ff98-4ee8-da7f-476848eff8ef"
      },
      "source": [
        "(X_train, Y_train), (X_test, Y_test) = tf.keras.datasets.mnist.load_data()\n",
        "n_display = 20\n",
        "check_train = (Y_train == 0) | (Y_train == 1)\n",
        "X_train = X_train[check_train]\n",
        "X_train = X_train[:size]/255.\n",
        "random = np.random.permutation(X_train.shape[0])[:n_display].astype(int)\n",
        "img_display = X_train[random]\n",
        "fig = plt.figure(figsize = (10, 10))\n",
        "for i in range(1, n_display + 1):\n",
        "    fig.add_subplot(4, 5, i)\n",
        "    img = img_display[i - 1].copy()\n",
        "    plt.imshow(img)\n",
        "    img = img.reshape(1, img.shape[0], img.shape[1])\n",
        "    plt.title(np.argmax(boss[0].predict(img), axis = 1)[0])\n",
        "plt.show()"
      ],
      "execution_count": null,
      "outputs": [
        {
          "output_type": "display_data",
          "data": {
            "image/png": "[encoded data removed]",
            "text/plain": [
              "<Figure size 720x720 with 20 Axes>"
            ]
          },
          "metadata": {
            "needs_background": "light"
          }
        }
      ]
    },
    {
      "cell_type": "code",
      "metadata": {
        "id": "un9Edoa3Yow_"
      },
      "source": [
        ""
      ],
      "execution_count": null,
      "outputs": []
    }
  ]
}
